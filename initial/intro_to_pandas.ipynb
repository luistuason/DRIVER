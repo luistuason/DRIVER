{
 "cells": [
  {
   "cell_type": "code",
   "execution_count": 11,
   "metadata": {
    "collapsed": true
   },
   "outputs": [],
   "source": [
    "import numpy as np\n",
    "import pandas as pd\n",
    "import matplotlib.pyplot as plt\n",
    "%matplotlib inline"
   ]
  },
  {
   "cell_type": "code",
   "execution_count": 2,
   "metadata": {
    "collapsed": true
   },
   "outputs": [],
   "source": [
    "fn = \"grab_pickup_ncr.csv\"\n",
    "df = pd.read_csv(fn)"
   ]
  },
  {
   "cell_type": "code",
   "execution_count": 19,
   "metadata": {
    "collapsed": false
   },
   "outputs": [
    {
     "data": {
      "text/html": [
       "<div>\n",
       "<table border=\"1\" class=\"dataframe\">\n",
       "  <thead>\n",
       "    <tr style=\"text-align: right;\">\n",
       "      <th></th>\n",
       "      <th>X</th>\n",
       "      <th>Y</th>\n",
       "      <th>X.1</th>\n",
       "      <th>Y.1</th>\n",
       "      <th>source</th>\n",
       "      <th>created_at</th>\n",
       "      <th>pick_up_la</th>\n",
       "      <th>pick_up_lo</th>\n",
       "      <th>drop_off_l</th>\n",
       "      <th>drop_off_1</th>\n",
       "      <th>...</th>\n",
       "      <th>ISO_2</th>\n",
       "      <th>NAME_3</th>\n",
       "      <th>NL_NAME3</th>\n",
       "      <th>VARNAME3</th>\n",
       "      <th>TYPE_3</th>\n",
       "      <th>ENGTYPE3</th>\n",
       "      <th>PROVINCE_2</th>\n",
       "      <th>REGION_2</th>\n",
       "      <th>dt</th>\n",
       "      <th>month</th>\n",
       "    </tr>\n",
       "  </thead>\n",
       "  <tbody>\n",
       "    <tr>\n",
       "      <th>0</th>\n",
       "      <td>120.98014</td>\n",
       "      <td>14.67869</td>\n",
       "      <td>120.98014</td>\n",
       "      <td>14.67869</td>\n",
       "      <td>IOS</td>\n",
       "      <td>2013-10-02 09:39:38.000000</td>\n",
       "      <td>14.67869</td>\n",
       "      <td>120.98014</td>\n",
       "      <td>14.58144</td>\n",
       "      <td>121.06073</td>\n",
       "      <td>...</td>\n",
       "      <td>PHL</td>\n",
       "      <td>Philippines</td>\n",
       "      <td>47</td>\n",
       "      <td>Metropolitan Manila</td>\n",
       "      <td>966</td>\n",
       "      <td>Valenzuela</td>\n",
       "      <td>NaN</td>\n",
       "      <td>Valenzuela, City of</td>\n",
       "      <td>2013-10-02 09:39:38</td>\n",
       "      <td>10</td>\n",
       "    </tr>\n",
       "    <tr>\n",
       "      <th>1</th>\n",
       "      <td>120.96980</td>\n",
       "      <td>14.69428</td>\n",
       "      <td>120.96980</td>\n",
       "      <td>14.69428</td>\n",
       "      <td>IOS</td>\n",
       "      <td>2013-12-11 10:32:55.000000</td>\n",
       "      <td>14.69428</td>\n",
       "      <td>120.96980</td>\n",
       "      <td>14.60397</td>\n",
       "      <td>121.01748</td>\n",
       "      <td>...</td>\n",
       "      <td>PHL</td>\n",
       "      <td>Philippines</td>\n",
       "      <td>47</td>\n",
       "      <td>Metropolitan Manila</td>\n",
       "      <td>966</td>\n",
       "      <td>Valenzuela</td>\n",
       "      <td>NaN</td>\n",
       "      <td>Valenzuela, City of</td>\n",
       "      <td>2013-12-11 10:32:55</td>\n",
       "      <td>12</td>\n",
       "    </tr>\n",
       "  </tbody>\n",
       "</table>\n",
       "<p>2 rows × 38 columns</p>\n",
       "</div>"
      ],
      "text/plain": [
       "           X         Y        X.1       Y.1 source  \\\n",
       "0  120.98014  14.67869  120.98014  14.67869    IOS   \n",
       "1  120.96980  14.69428  120.96980  14.69428    IOS   \n",
       "\n",
       "                   created_at  pick_up_la  pick_up_lo  drop_off_l  drop_off_1  \\\n",
       "0  2013-10-02 09:39:38.000000    14.67869   120.98014    14.58144   121.06073   \n",
       "1  2013-12-11 10:32:55.000000    14.69428   120.96980    14.60397   121.01748   \n",
       "\n",
       "   ...   ISO_2       NAME_3  NL_NAME3             VARNAME3  TYPE_3  \\\n",
       "0  ...     PHL  Philippines        47  Metropolitan Manila     966   \n",
       "1  ...     PHL  Philippines        47  Metropolitan Manila     966   \n",
       "\n",
       "     ENGTYPE3 PROVINCE_2             REGION_2                  dt  month  \n",
       "0  Valenzuela        NaN  Valenzuela, City of 2013-10-02 09:39:38     10  \n",
       "1  Valenzuela        NaN  Valenzuela, City of 2013-12-11 10:32:55     12  \n",
       "\n",
       "[2 rows x 38 columns]"
      ]
     },
     "execution_count": 19,
     "metadata": {},
     "output_type": "execute_result"
    }
   ],
   "source": [
    "df.head(2)"
   ]
  },
  {
   "cell_type": "code",
   "execution_count": 4,
   "metadata": {
    "collapsed": false
   },
   "outputs": [
    {
     "data": {
      "text/plain": [
       "756"
      ]
     },
     "execution_count": 4,
     "metadata": {},
     "output_type": "execute_result"
    }
   ],
   "source": [
    "len(df)"
   ]
  },
  {
   "cell_type": "code",
   "execution_count": 15,
   "metadata": {
    "collapsed": true
   },
   "outputs": [],
   "source": [
    "df[\"dt\"] = pd.to_datetime(df[\"created_at\"])"
   ]
  },
  {
   "cell_type": "code",
   "execution_count": 16,
   "metadata": {
    "collapsed": false
   },
   "outputs": [
    {
     "data": {
      "text/plain": [
       "0   2013-10-02 09:39:38\n",
       "1   2013-12-11 10:32:55\n",
       "Name: dt, dtype: datetime64[ns]"
      ]
     },
     "execution_count": 16,
     "metadata": {},
     "output_type": "execute_result"
    }
   ],
   "source": [
    "df[\"dt\"].head(2)"
   ]
  },
  {
   "cell_type": "code",
   "execution_count": 18,
   "metadata": {
    "collapsed": false
   },
   "outputs": [],
   "source": [
    "df[\"month\"] = df[\"dt\"].dt.month"
   ]
  },
  {
   "cell_type": "code",
   "execution_count": 25,
   "metadata": {
    "collapsed": false
   },
   "outputs": [
    {
     "data": {
      "text/html": [
       "<div>\n",
       "<table border=\"1\" class=\"dataframe\">\n",
       "  <thead>\n",
       "    <tr style=\"text-align: right;\">\n",
       "      <th></th>\n",
       "      <th>month</th>\n",
       "      <th>count</th>\n",
       "    </tr>\n",
       "  </thead>\n",
       "  <tbody>\n",
       "    <tr>\n",
       "      <th>0</th>\n",
       "      <td>12</td>\n",
       "      <td>350</td>\n",
       "    </tr>\n",
       "    <tr>\n",
       "      <th>1</th>\n",
       "      <td>11</td>\n",
       "      <td>139</td>\n",
       "    </tr>\n",
       "    <tr>\n",
       "      <th>2</th>\n",
       "      <td>10</td>\n",
       "      <td>137</td>\n",
       "    </tr>\n",
       "    <tr>\n",
       "      <th>3</th>\n",
       "      <td>9</td>\n",
       "      <td>110</td>\n",
       "    </tr>\n",
       "    <tr>\n",
       "      <th>4</th>\n",
       "      <td>8</td>\n",
       "      <td>20</td>\n",
       "    </tr>\n",
       "  </tbody>\n",
       "</table>\n",
       "</div>"
      ],
      "text/plain": [
       "   month  count\n",
       "0     12    350\n",
       "1     11    139\n",
       "2     10    137\n",
       "3      9    110\n",
       "4      8     20"
      ]
     },
     "execution_count": 25,
     "metadata": {},
     "output_type": "execute_result"
    }
   ],
   "source": [
    "df_count_by_month = pd.DataFrame(df[\"month\"].value_counts())\n",
    "df_count_by_month.reset_index(inplace=True)\n",
    "df_count_by_month.columns = [\"month\", \"count\"]\n",
    "df_count_by_month"
   ]
  },
  {
   "cell_type": "code",
   "execution_count": 34,
   "metadata": {
    "collapsed": false
   },
   "outputs": [
    {
     "data": {
      "text/plain": [
       "array([  8. ,   8.8,   9.6,  10.4,  11.2,  12. ])"
      ]
     },
     "execution_count": 34,
     "metadata": {},
     "output_type": "execute_result"
    }
   ],
   "source": [
    "np.linspace(8,12,6)"
   ]
  },
  {
   "cell_type": "code",
   "execution_count": 35,
   "metadata": {
    "collapsed": false
   },
   "outputs": [
    {
     "data": {
      "image/png": "[encoded data removed]",
      "text/plain": [
       "<matplotlib.figure.Figure at 0x118bf43d0>"
      ]
     },
     "metadata": {},
     "output_type": "display_data"
    }
   ],
   "source": [
    "plt.figure(figsize=(8,6))\n",
    "plt.plot(df_count_by_month[\"month\"], df_count_by_month[\"count\"], 'ko-')\n",
    "plt.xlabel(\"month\")\n",
    "plt.ylabel(\"count of grab pickups\")\n",
    "plt.xticks((np.linspace(8,12,5)))\n",
    "plt.savefig(\"fig_count_by_month.png\", dpi=200)"
   ]
  },
  {
   "cell_type": "code",
   "execution_count": 5,
   "metadata": {
    "collapsed": false
   },
   "outputs": [
    {
     "data": {
      "text/plain": [
       "Valenzuela       529\n",
       "Malabon          220\n",
       "Kalookan City      5\n",
       "Navotas            2\n",
       "Name: NAME_2, dtype: int64"
      ]
     },
     "execution_count": 5,
     "metadata": {},
     "output_type": "execute_result"
    }
   ],
   "source": [
    "df[\"NAME_2\"].value_counts()"
   ]
  },
  {
   "cell_type": "code",
   "execution_count": 7,
   "metadata": {
    "collapsed": false
   },
   "outputs": [
    {
     "data": {
      "text/html": [
       "<div>\n",
       "<table border=\"1\" class=\"dataframe\">\n",
       "  <thead>\n",
       "    <tr style=\"text-align: right;\">\n",
       "      <th></th>\n",
       "      <th>len</th>\n",
       "    </tr>\n",
       "    <tr>\n",
       "      <th>NAME_2</th>\n",
       "      <th></th>\n",
       "    </tr>\n",
       "  </thead>\n",
       "  <tbody>\n",
       "    <tr>\n",
       "      <th>Kalookan City</th>\n",
       "      <td>5</td>\n",
       "    </tr>\n",
       "    <tr>\n",
       "      <th>Malabon</th>\n",
       "      <td>220</td>\n",
       "    </tr>\n",
       "    <tr>\n",
       "      <th>Navotas</th>\n",
       "      <td>2</td>\n",
       "    </tr>\n",
       "    <tr>\n",
       "      <th>Valenzuela</th>\n",
       "      <td>529</td>\n",
       "    </tr>\n",
       "  </tbody>\n",
       "</table>\n",
       "</div>"
      ],
      "text/plain": [
       "               len\n",
       "NAME_2            \n",
       "Kalookan City    5\n",
       "Malabon        220\n",
       "Navotas          2\n",
       "Valenzuela     529"
      ]
     },
     "execution_count": 7,
     "metadata": {},
     "output_type": "execute_result"
    }
   ],
   "source": [
    "df.groupby(\"NAME_2\")[\"NAME_2\"].agg([len])"
   ]
  },
  {
   "cell_type": "code",
   "execution_count": 9,
   "metadata": {
    "collapsed": false
   },
   "outputs": [
    {
     "data": {
      "text/html": [
       "<div>\n",
       "<table border=\"1\" class=\"dataframe\">\n",
       "  <thead>\n",
       "    <tr style=\"text-align: right;\">\n",
       "      <th></th>\n",
       "      <th></th>\n",
       "      <th>len</th>\n",
       "    </tr>\n",
       "    <tr>\n",
       "      <th>NAME_2</th>\n",
       "      <th>source</th>\n",
       "      <th></th>\n",
       "    </tr>\n",
       "  </thead>\n",
       "  <tbody>\n",
       "    <tr>\n",
       "      <th rowspan=\"2\" valign=\"top\">Kalookan City</th>\n",
       "      <th>ADR</th>\n",
       "      <td>3</td>\n",
       "    </tr>\n",
       "    <tr>\n",
       "      <th>IOS</th>\n",
       "      <td>2</td>\n",
       "    </tr>\n",
       "    <tr>\n",
       "      <th rowspan=\"3\" valign=\"top\">Malabon</th>\n",
       "      <th>ADR</th>\n",
       "      <td>97</td>\n",
       "    </tr>\n",
       "    <tr>\n",
       "      <th>IOS</th>\n",
       "      <td>122</td>\n",
       "    </tr>\n",
       "    <tr>\n",
       "      <th>T47</th>\n",
       "      <td>1</td>\n",
       "    </tr>\n",
       "    <tr>\n",
       "      <th rowspan=\"2\" valign=\"top\">Navotas</th>\n",
       "      <th>ADR</th>\n",
       "      <td>1</td>\n",
       "    </tr>\n",
       "    <tr>\n",
       "      <th>IOS</th>\n",
       "      <td>1</td>\n",
       "    </tr>\n",
       "    <tr>\n",
       "      <th rowspan=\"3\" valign=\"top\">Valenzuela</th>\n",
       "      <th>ADR</th>\n",
       "      <td>271</td>\n",
       "    </tr>\n",
       "    <tr>\n",
       "      <th>IOS</th>\n",
       "      <td>256</td>\n",
       "    </tr>\n",
       "    <tr>\n",
       "      <th>T47</th>\n",
       "      <td>2</td>\n",
       "    </tr>\n",
       "  </tbody>\n",
       "</table>\n",
       "</div>"
      ],
      "text/plain": [
       "                      len\n",
       "NAME_2        source     \n",
       "Kalookan City ADR       3\n",
       "              IOS       2\n",
       "Malabon       ADR      97\n",
       "              IOS     122\n",
       "              T47       1\n",
       "Navotas       ADR       1\n",
       "              IOS       1\n",
       "Valenzuela    ADR     271\n",
       "              IOS     256\n",
       "              T47       2"
      ]
     },
     "execution_count": 9,
     "metadata": {},
     "output_type": "execute_result"
    }
   ],
   "source": [
    "df.groupby([\"NAME_2\", \"source\"])[\"NAME_2\"].agg([len])"
   ]
  },
  {
   "cell_type": "code",
   "execution_count": 12,
   "metadata": {
    "collapsed": false
   },
   "outputs": [
    {
     "data": {
      "text/html": [
       "<div>\n",
       "<table border=\"1\" class=\"dataframe\">\n",
       "  <thead>\n",
       "    <tr>\n",
       "      <th></th>\n",
       "      <th>X</th>\n",
       "      <th>Y</th>\n",
       "    </tr>\n",
       "    <tr>\n",
       "      <th></th>\n",
       "      <th>mean</th>\n",
       "      <th>mean</th>\n",
       "    </tr>\n",
       "    <tr>\n",
       "      <th>NAME_2</th>\n",
       "      <th></th>\n",
       "      <th></th>\n",
       "    </tr>\n",
       "  </thead>\n",
       "  <tbody>\n",
       "    <tr>\n",
       "      <th>Kalookan City</th>\n",
       "      <td>120.997804</td>\n",
       "      <td>14.669118</td>\n",
       "    </tr>\n",
       "    <tr>\n",
       "      <th>Malabon</th>\n",
       "      <td>120.970378</td>\n",
       "      <td>14.670976</td>\n",
       "    </tr>\n",
       "    <tr>\n",
       "      <th>Navotas</th>\n",
       "      <td>120.942010</td>\n",
       "      <td>14.667801</td>\n",
       "    </tr>\n",
       "    <tr>\n",
       "      <th>Valenzuela</th>\n",
       "      <td>120.980222</td>\n",
       "      <td>14.687616</td>\n",
       "    </tr>\n",
       "  </tbody>\n",
       "</table>\n",
       "</div>"
      ],
      "text/plain": [
       "                        X          Y\n",
       "                     mean       mean\n",
       "NAME_2                              \n",
       "Kalookan City  120.997804  14.669118\n",
       "Malabon        120.970378  14.670976\n",
       "Navotas        120.942010  14.667801\n",
       "Valenzuela     120.980222  14.687616"
      ]
     },
     "execution_count": 12,
     "metadata": {},
     "output_type": "execute_result"
    }
   ],
   "source": [
    "df_mean = df.groupby([\"NAME_2\"])[\"X\", \"Y\"].agg([np.mean])\n",
    "df_mean"
   ]
  },
  {
   "cell_type": "code",
   "execution_count": 14,
   "metadata": {
    "collapsed": false
   },
   "outputs": [
    {
     "data": {
      "text/plain": [
       "[<matplotlib.lines.Line2D at 0x118959450>]"
      ]
     },
     "execution_count": 14,
     "metadata": {},
     "output_type": "execute_result"
    },
    {
     "data": {
      "image/png": "[encoded data removed]",
      "text/plain": [
       "<matplotlib.figure.Figure at 0x113fd2c50>"
      ]
     },
     "metadata": {},
     "output_type": "display_data"
    }
   ],
   "source": [
    "plt.plot(df_mean[\"X\"], df_mean[\"Y\"], 'ko')"
   ]
  },
  {
   "cell_type": "code",
   "execution_count": null,
   "metadata": {
    "collapsed": true
   },
   "outputs": [],
   "source": []
  }
 ],
 "metadata": {
  "kernelspec": {
   "display_name": "Python 2",
   "language": "python",
   "name": "python2"
  },
  "language_info": {
   "codemirror_mode": {
    "name": "ipython",
    "version": 2
   },
   "file_extension": ".py",
   "mimetype": "text/x-python",
   "name": "python",
   "nbconvert_exporter": "python",
   "pygments_lexer": "ipython2",
   "version": "2.7.10"
  }
 },
 "nbformat": 4,
 "nbformat_minor": 0
}
